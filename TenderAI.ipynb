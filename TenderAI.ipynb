{
  "nbformat": 4,
  "nbformat_minor": 0,
  "metadata": {
    "colab": {
      "provenance": [],
      "authorship_tag": "ABX9TyPczyGw0Jwa+VRo0SBJz9GX",
      "include_colab_link": true
    },
    "kernelspec": {
      "name": "python3",
      "display_name": "Python 3"
    },
    "language_info": {
      "name": "python"
    }
  },
  "cells": [
    {
      "cell_type": "markdown",
      "metadata": {
        "id": "view-in-github",
        "colab_type": "text"
      },
      "source": [
        "<a href=\"https://colab.research.google.com/github/lisstasy/tenderAI/blob/main/TenderAI.ipynb\" target=\"_parent\"><img src=\"https://colab.research.google.com/assets/colab-badge.svg\" alt=\"Open In Colab\"/></a>"
      ]
    },
    {
      "cell_type": "code",
      "execution_count": null,
      "metadata": {
        "id": "1UuAW-zAChJp"
      },
      "outputs": [],
      "source": [
        "!pip -q install langchain openai tiktoken chromadb sentence-transformers jq langchain_openai unstructured pypdf langchain_community"
      ]
    },
    {
      "cell_type": "code",
      "source": [
        "from langchain.document_loaders import JSONLoader\n",
        "from langchain.embeddings.sentence_transformer import SentenceTransformerEmbeddings\n",
        "from langchain.vectorstores import Chroma\n",
        "from langchain.embeddings import OpenAIEmbeddings\n",
        "from langchain.text_splitter import RecursiveCharacterTextSplitter\n",
        "from langchain.llms import OpenAI\n",
        "from langchain.chains import RetrievalQA\n",
        "from langchain.document_loaders import TextLoader\n",
        "from langchain.document_loaders import DirectoryLoader, UnstructuredExcelLoader, PyPDFLoader\n",
        "from langchain.prompts import ChatPromptTemplate\n",
        "\n",
        "from langchain_community.vectorstores import Chroma\n",
        "from langchain_community.document_loaders import JSONLoader\n",
        "from langchain_community.embeddings import OpenAIEmbeddings\n",
        "\n",
        "from langchain_core.output_parsers import StrOutputParser\n",
        "from langchain_core.runnables import RunnableLambda, RunnablePassthrough\n",
        "\n",
        "openai_api_key = \"###\""
      ],
      "metadata": {
        "id": "UXXCGxLaCo-F"
      },
      "execution_count": null,
      "outputs": []
    },
    {
      "cell_type": "code",
      "source": [
        "def load_xlsl():\n",
        "\n",
        "    loader = UnstructuredExcelLoader('/content/3t_TZ-TEST.xlsx') #, mode=\"elements\"\n",
        "    docs_xls = loader.load()\n",
        "    return docs_xls\n",
        "\n",
        "doc=load_xlsl()"
      ],
      "metadata": {
        "id": "oaK4a6eBCqKZ"
      },
      "execution_count": null,
      "outputs": []
    },
    {
      "cell_type": "code",
      "source": [
        "def load_pdf():\n",
        "\n",
        "    loader = PyPDFLoader(\"/content/1.5_TZ.pdf\")\n",
        "    pages = loader.load()\n",
        "\n",
        "    return pages\n",
        "\n",
        "doc = load_pdf()"
      ],
      "metadata": {
        "id": "IgCUkZHTa0n6"
      },
      "execution_count": null,
      "outputs": []
    },
    {
      "cell_type": "code",
      "source": [
        "from langchain_openai import ChatOpenAI, OpenAIEmbeddings\n",
        "embedding_function = OpenAIEmbeddings(model=\"text-embedding-ada-002\", openai_api_key=openai_api_key)\n",
        "db_for_temporal_data = Chroma.from_documents(doc, embedding_function)\n",
        "retriever_temp = db_for_temporal_data.as_retriever()\n",
        "\n",
        "template = \"\"\"Extract from the {context} key and values. Possiable keys:value pair are capacity_kg,service_life_years,lifting_speed_mm_s,engine_type,lifting_height_mm,dimensions_mm. Be attentive for capacity_kg, if you see value \"1.5\" it means 1500kg.\n",
        "\n",
        "Instructions: {instructions}\n",
        "\"\"\"\n",
        "prompt = ChatPromptTemplate.from_template(template)\n",
        "\n",
        "model = ChatOpenAI(model =\"gpt-4-0125-preview\", openai_api_key=openai_api_key)\n",
        "\n",
        "chain = (\n",
        "    {\"context\": retriever_temp, \"instructions\": RunnablePassthrough()}\n",
        "    | prompt\n",
        "    | model\n",
        "    | StrOutputParser()\n",
        ")\n",
        "\n",
        "query = \"extract in format of the table in English\"\n",
        "\n",
        "# Invoke the chain and save the output\n",
        "output = chain.invoke(query)\n",
        "\n",
        "# Now you can use 'output' as an input in the next chain\n",
        "next_chain_input = output\n",
        "\n"
      ],
      "metadata": {
        "id": "wbvCxifjCrbR"
      },
      "execution_count": null,
      "outputs": []
    },
    {
      "cell_type": "code",
      "source": [
        "output"
      ],
      "metadata": {
        "colab": {
          "base_uri": "https://localhost:8080/",
          "height": 87
        },
        "id": "bWuTUrIlbkhx",
        "outputId": "90ded680-3953-4a66-a5a0-abdb5181baae"
      },
      "execution_count": null,
      "outputs": [
        {
          "output_type": "execute_result",
          "data": {
            "text/plain": [
              "'| Key                | Value                  |\\n|--------------------|------------------------|\\n| capacity_kg        | 3000                   |\\n| service_life_years | 5                      |\\n| lifting_speed_mm_s | Not available          |\\n| engine_type        | Diesel (Japan), Isuzu C240 (Japan) |\\n| lifting_height_mm  | Not less than 7000     |\\n| dimensions_mm      | Not available          |'"
            ],
            "application/vnd.google.colaboratory.intrinsic+json": {
              "type": "string"
            }
          },
          "metadata": {},
          "execution_count": 24
        }
      ]
    },
    {
      "cell_type": "code",
      "source": [
        "print(type(next_chain_input))"
      ],
      "metadata": {
        "colab": {
          "base_uri": "https://localhost:8080/"
        },
        "id": "qjjnnHCyi8PF",
        "outputId": "1ca0680f-1bef-4577-ee18-1866d181951f"
      },
      "execution_count": null,
      "outputs": [
        {
          "output_type": "stream",
          "name": "stdout",
          "text": [
            "<class 'str'>\n"
          ]
        }
      ]
    },
    {
      "cell_type": "code",
      "source": [
        "from langchain.prompts import ChatPromptTemplate\n",
        "from langchain_community.vectorstores import Chroma\n",
        "from langchain_community.document_loaders import JSONLoader\n",
        "from langchain_community.embeddings import OpenAIEmbeddings\n",
        "from langchain_core.output_parsers import StrOutputParser\n",
        "from langchain_core.runnables import RunnableLambda, RunnablePassthrough\n",
        "from langchain_openai import ChatOpenAI\n",
        "\n",
        "file_paths = [\"/content/1.5T_WEB(real)_mod.json\", \"/content/3.5TO_WEB_mod.json\", \"/content/3TO_WEB_mod.json\", \"/content/3T_WEB(real).json\"]\n",
        "\n",
        "# Load documents from all files\n",
        "all_documents = []\n",
        "for file_path in file_paths:\n",
        "    loader = JSONLoader(file_path=file_path, jq_schema=\".data\", text_content=False)\n",
        "    documents = loader.load()\n",
        "    all_documents.extend(documents)\n",
        "\n",
        "\n",
        "# save to disk\n",
        "db = Chroma.from_documents(all_documents, embedding_function, persist_directory=\"./chroma_db\", collection_name=\"langchain\")\n",
        "retriever = db.as_retriever()\n"
      ],
      "metadata": {
        "id": "HYIlo03FiHnM"
      },
      "execution_count": null,
      "outputs": []
    },
    {
      "cell_type": "code",
      "source": [
        "# Define the template for the prompt\n",
        "template = \"\"\"Given the specifications {next_chain_input}, answer the question using the following context to help: {context}.\n",
        "\n",
        "Instruction: {instruction}\n",
        "\"\"\"\n",
        "\n",
        "prompt = ChatPromptTemplate.from_template(template)\n",
        "next_chain_input\n",
        "# Define the model\n",
        "model = ChatOpenAI(model=\"gpt-4-0125-preview\", openai_api_key=openai_api_key) #gpt-3.5-turbo-0125 gpt-4-0125-preview\n",
        "\n",
        "# Define the processing chain\n",
        "chain = (\n",
        "    {\"context\": retriever, \"instruction\": RunnablePassthrough(), \"next_chain_input\": RunnablePassthrough()} #next_chain_input #RunnablePassthrough() retriever_temp\n",
        "    | prompt\n",
        "    | model\n",
        "    | StrOutputParser()\n",
        ")\n",
        "\n",
        "# Example query\n",
        "instruction = \"You are an expirienced sales person. Write a commercial offer in Russian that proposes the machinery matching the spesifications the most. Include in your offer key data such as: capacity_kg,service_life_years,lifting_speed_mm_s,engine_type,lifting_height_mm,dimensions_mm.\"\n",
        "\n",
        "print(chain.invoke(instruction))"
      ],
      "metadata": {
        "colab": {
          "base_uri": "https://localhost:8080/"
        },
        "id": "6rjsr-dZkDGB",
        "outputId": "1df57456-c5d3-4c80-a103-1f0c81976c6f"
      },
      "execution_count": null,
      "outputs": [
        {
          "output_type": "stream",
          "name": "stdout",
          "text": [
            "Уважаемые господа!\n",
            "\n",
            "Рады предложить вам наш новейший дизельный погрузчик Hangcha CPCD30-XRW10, который является идеальным решением для ваших складских и производственных нужд. Этот погрузчик сочетает в себе высокую производительность, экономичность эксплуатации и удобство использования.\n",
            "\n",
            "**Основные характеристики:**\n",
            "\n",
            "- **Грузоподъемность:** 3000 кг, что позволяет с легкостью справляться с большинством задач на складе или в производственной зоне.\n",
            "- **Срок службы:** Наш погрузчик рассчитан на длительный срок службы, до 10 лет, обеспечивая вашему бизнесу надежного \"рабочего коня\" на годы вперед.\n",
            "- **Скорость подъема:** 0.49/0.53 м/с (с грузом/без груза) обеспечивает быструю и эффективную работу с грузами, что значительно ускоряет процессы на складе.\n",
            "- **Тип двигателя:** Дизельный, что гарантирует высокую мощность и экономичность в эксплуатации по сравнению с бензиновыми аналогами.\n",
            "- **Высота подъема:** до 7000 мм, позволяющая работать с грузами на большой высоте.\n",
            "- **Размеры:** 2700мм (длина до вилки) x 1225мм (общая ширина), что делает погрузчик маневренным и удобным в использовании даже в условиях ограниченного пространства.\n",
            "\n",
            "**Цена:**\n",
            "- **Оригинальная цена:** 2,610,000 RUB\n",
            "- **Цена со скидкой:** 2,110,000 RUB\n",
            "\n",
            "Этот погрузчик - идеальное сочетание производительности, надежности и экономии, способное удовлетворить самые высокие требования вашего бизнеса. \n",
            "\n",
            "Присоединяйтесь к числу довольных клиентов Hangcha и внесите новый уровень эффективности в вашу логистическую или производственную операцию уже сегодня!\n",
            "\n",
            "С уважением,\n",
            "[Ваше Имя]\n",
            "[Контактная Информация]\n"
          ]
        }
      ]
    }
  ]
}